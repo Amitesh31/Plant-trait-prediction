{
 "cells": [
  {
   "cell_type": "code",
   "execution_count": 67,
   "metadata": {
    "execution": {
     "iopub.execute_input": "2024-04-27T02:05:07.410545Z",
     "iopub.status.busy": "2024-04-27T02:05:07.409674Z",
     "iopub.status.idle": "2024-04-27T02:05:07.417497Z",
     "shell.execute_reply": "2024-04-27T02:05:07.416454Z",
     "shell.execute_reply.started": "2024-04-27T02:05:07.410512Z"
    }
   },
   "outputs": [],
   "source": [
    "\n",
    "import numpy as np\n",
    "import pandas as pd\n",
    "import matplotlib.pyplot as plt\n",
    "import imageio.v3 as imageio\n",
    "import albumentations as A\n",
    "\n",
    "from albumentations.pytorch import ToTensorV2\n",
    "from torch.utils.data import Dataset, DataLoader\n",
    "from torch import nn\n",
    "from tqdm.notebook import tqdm\n",
    "from sklearn.preprocessing import StandardScaler\n",
    "\n",
    "import torch\n",
    "import timm\n",
    "import glob\n",
    "import torchmetrics\n",
    "import time\n",
    "import psutil\n",
    "import os\n",
    "\n",
    "tqdm.pandas()"
   ]
  },
  {
   "cell_type": "code",
   "execution_count": 68,
   "metadata": {
    "execution": {
     "iopub.execute_input": "2024-04-27T02:05:07.745635Z",
     "iopub.status.busy": "2024-04-27T02:05:07.745276Z",
     "iopub.status.idle": "2024-04-27T02:05:07.752548Z",
     "shell.execute_reply": "2024-04-27T02:05:07.751615Z",
     "shell.execute_reply.started": "2024-04-27T02:05:07.745606Z"
    }
   },
   "outputs": [],
   "source": [
    "class Config():\n",
    "    sub = \"/kaggle/input/planttraits2024/sample_submission.csv\"\n",
    "    trgts = \"/kaggle/input/planttraits2024/target_name_meta.tsv\"\n",
    "    train_path = \"/kaggle/input/planttraits2024/train.csv\"\n",
    "    test_path = \"/kaggle/input/planttraits2024/test.csv\"\n",
    "    train_image_path = \"/kaggle/input/planttraits2024/train_images/\"\n",
    "    test_image_path = \"/kaggle/input/planttraits2024/test_images/\"\n",
    "    IMAGE_SIZE = 384\n",
    "    BACKBONE = 'swin_large_patch4_window12_384.ms_in22k_ft_in1k'\n",
    "    TARGET_COLUMNS = ['X4_mean', 'X11_mean', 'X18_mean', 'X50_mean', 'X26_mean', 'X3112_mean']\n",
    "    TARGET_COLS = ['X4_mean', 'X11_mean', 'X18_mean', 'X50_mean', 'X26_mean', 'X3112_mean']\n",
    "    N_TARGETS = len(TARGET_COLUMNS)\n",
    "    BATCH_SIZE = 10\n",
    "    LR_MAX = 1e-4\n",
    "    WEIGHT_DECAY = 0.01\n",
    "    N_EPOCHS = 4\n",
    "    TRAIN_MODEL = True\n",
    "    IS_INTERACTIVE = os.environ['KAGGLE_KERNEL_RUN_TYPE'] == 'Interactive'\n",
    "        \n",
    "CONFIG = Config()"
   ]
  },
  {
   "cell_type": "code",
   "execution_count": 69,
   "metadata": {
    "execution": {
     "iopub.execute_input": "2024-04-27T02:05:07.952657Z",
     "iopub.status.busy": "2024-04-27T02:05:07.952276Z",
     "iopub.status.idle": "2024-04-27T02:05:09.638772Z",
     "shell.execute_reply": "2024-04-27T02:05:09.637609Z",
     "shell.execute_reply.started": "2024-04-27T02:05:07.952620Z"
    }
   },
   "outputs": [
    {
     "data": {
      "text/html": [
       "<div>\n",
       "<style scoped>\n",
       "    .dataframe tbody tr th:only-of-type {\n",
       "        vertical-align: middle;\n",
       "    }\n",
       "\n",
       "    .dataframe tbody tr th {\n",
       "        vertical-align: top;\n",
       "    }\n",
       "\n",
       "    .dataframe thead th {\n",
       "        text-align: right;\n",
       "    }\n",
       "</style>\n",
       "<table border=\"1\" class=\"dataframe\">\n",
       "  <thead>\n",
       "    <tr style=\"text-align: right;\">\n",
       "      <th></th>\n",
       "      <th>id</th>\n",
       "      <th>image_path</th>\n",
       "      <th>X4_mean</th>\n",
       "      <th>X11_mean</th>\n",
       "      <th>X18_mean</th>\n",
       "      <th>X26_mean</th>\n",
       "      <th>X50_mean</th>\n",
       "      <th>X3112_mean</th>\n",
       "    </tr>\n",
       "  </thead>\n",
       "  <tbody>\n",
       "    <tr>\n",
       "      <th>0</th>\n",
       "      <td>192027691</td>\n",
       "      <td>/kaggle/input/planttraits2024/train_images/192...</td>\n",
       "      <td>0.401753</td>\n",
       "      <td>11.758108</td>\n",
       "      <td>0.117484</td>\n",
       "      <td>1.243779</td>\n",
       "      <td>1.849375</td>\n",
       "      <td>50.216034</td>\n",
       "    </tr>\n",
       "    <tr>\n",
       "      <th>1</th>\n",
       "      <td>195542235</td>\n",
       "      <td>/kaggle/input/planttraits2024/train_images/195...</td>\n",
       "      <td>0.480334</td>\n",
       "      <td>15.748846</td>\n",
       "      <td>0.389315</td>\n",
       "      <td>0.642940</td>\n",
       "      <td>1.353468</td>\n",
       "      <td>574.098472</td>\n",
       "    </tr>\n",
       "    <tr>\n",
       "      <th>2</th>\n",
       "      <td>196639184</td>\n",
       "      <td>/kaggle/input/planttraits2024/train_images/196...</td>\n",
       "      <td>0.796917</td>\n",
       "      <td>5.291251</td>\n",
       "      <td>8.552908</td>\n",
       "      <td>0.395241</td>\n",
       "      <td>2.343153</td>\n",
       "      <td>1130.096731</td>\n",
       "    </tr>\n",
       "    <tr>\n",
       "      <th>3</th>\n",
       "      <td>195728812</td>\n",
       "      <td>/kaggle/input/planttraits2024/train_images/195...</td>\n",
       "      <td>0.525236</td>\n",
       "      <td>9.568305</td>\n",
       "      <td>1.083629</td>\n",
       "      <td>0.154200</td>\n",
       "      <td>1.155308</td>\n",
       "      <td>1042.686546</td>\n",
       "    </tr>\n",
       "    <tr>\n",
       "      <th>4</th>\n",
       "      <td>195251545</td>\n",
       "      <td>/kaggle/input/planttraits2024/train_images/195...</td>\n",
       "      <td>0.411821</td>\n",
       "      <td>14.528877</td>\n",
       "      <td>0.657585</td>\n",
       "      <td>10.919966</td>\n",
       "      <td>2.246226</td>\n",
       "      <td>2386.467180</td>\n",
       "    </tr>\n",
       "    <tr>\n",
       "      <th>...</th>\n",
       "      <td>...</td>\n",
       "      <td>...</td>\n",
       "      <td>...</td>\n",
       "      <td>...</td>\n",
       "      <td>...</td>\n",
       "      <td>...</td>\n",
       "      <td>...</td>\n",
       "      <td>...</td>\n",
       "    </tr>\n",
       "    <tr>\n",
       "      <th>55484</th>\n",
       "      <td>190558785</td>\n",
       "      <td>/kaggle/input/planttraits2024/train_images/190...</td>\n",
       "      <td>0.337243</td>\n",
       "      <td>11.572778</td>\n",
       "      <td>0.233690</td>\n",
       "      <td>1.783193</td>\n",
       "      <td>1.608341</td>\n",
       "      <td>969.547831</td>\n",
       "    </tr>\n",
       "    <tr>\n",
       "      <th>55485</th>\n",
       "      <td>194523231</td>\n",
       "      <td>/kaggle/input/planttraits2024/train_images/194...</td>\n",
       "      <td>0.424371</td>\n",
       "      <td>6.114448</td>\n",
       "      <td>1.017099</td>\n",
       "      <td>12.713048</td>\n",
       "      <td>2.418300</td>\n",
       "      <td>1630.015480</td>\n",
       "    </tr>\n",
       "    <tr>\n",
       "      <th>55486</th>\n",
       "      <td>195888987</td>\n",
       "      <td>/kaggle/input/planttraits2024/train_images/195...</td>\n",
       "      <td>0.639659</td>\n",
       "      <td>5.549596</td>\n",
       "      <td>2.717395</td>\n",
       "      <td>10.206478</td>\n",
       "      <td>2.722599</td>\n",
       "      <td>602.229880</td>\n",
       "    </tr>\n",
       "    <tr>\n",
       "      <th>55487</th>\n",
       "      <td>135487319</td>\n",
       "      <td>/kaggle/input/planttraits2024/train_images/135...</td>\n",
       "      <td>0.774642</td>\n",
       "      <td>7.024218</td>\n",
       "      <td>4.429659</td>\n",
       "      <td>9.372170</td>\n",
       "      <td>3.251739</td>\n",
       "      <td>244.387170</td>\n",
       "    </tr>\n",
       "    <tr>\n",
       "      <th>55488</th>\n",
       "      <td>146608105</td>\n",
       "      <td>/kaggle/input/planttraits2024/train_images/146...</td>\n",
       "      <td>0.551888</td>\n",
       "      <td>13.169623</td>\n",
       "      <td>5.827227</td>\n",
       "      <td>154.773325</td>\n",
       "      <td>1.523978</td>\n",
       "      <td>3740.065672</td>\n",
       "    </tr>\n",
       "  </tbody>\n",
       "</table>\n",
       "<p>55489 rows × 8 columns</p>\n",
       "</div>"
      ],
      "text/plain": [
       "              id                                         image_path   X4_mean  \\\n",
       "0      192027691  /kaggle/input/planttraits2024/train_images/192...  0.401753   \n",
       "1      195542235  /kaggle/input/planttraits2024/train_images/195...  0.480334   \n",
       "2      196639184  /kaggle/input/planttraits2024/train_images/196...  0.796917   \n",
       "3      195728812  /kaggle/input/planttraits2024/train_images/195...  0.525236   \n",
       "4      195251545  /kaggle/input/planttraits2024/train_images/195...  0.411821   \n",
       "...          ...                                                ...       ...   \n",
       "55484  190558785  /kaggle/input/planttraits2024/train_images/190...  0.337243   \n",
       "55485  194523231  /kaggle/input/planttraits2024/train_images/194...  0.424371   \n",
       "55486  195888987  /kaggle/input/planttraits2024/train_images/195...  0.639659   \n",
       "55487  135487319  /kaggle/input/planttraits2024/train_images/135...  0.774642   \n",
       "55488  146608105  /kaggle/input/planttraits2024/train_images/146...  0.551888   \n",
       "\n",
       "        X11_mean  X18_mean    X26_mean  X50_mean   X3112_mean  \n",
       "0      11.758108  0.117484    1.243779  1.849375    50.216034  \n",
       "1      15.748846  0.389315    0.642940  1.353468   574.098472  \n",
       "2       5.291251  8.552908    0.395241  2.343153  1130.096731  \n",
       "3       9.568305  1.083629    0.154200  1.155308  1042.686546  \n",
       "4      14.528877  0.657585   10.919966  2.246226  2386.467180  \n",
       "...          ...       ...         ...       ...          ...  \n",
       "55484  11.572778  0.233690    1.783193  1.608341   969.547831  \n",
       "55485   6.114448  1.017099   12.713048  2.418300  1630.015480  \n",
       "55486   5.549596  2.717395   10.206478  2.722599   602.229880  \n",
       "55487   7.024218  4.429659    9.372170  3.251739   244.387170  \n",
       "55488  13.169623  5.827227  154.773325  1.523978  3740.065672  \n",
       "\n",
       "[55489 rows x 8 columns]"
      ]
     },
     "execution_count": 69,
     "metadata": {},
     "output_type": "execute_result"
    }
   ],
   "source": [
    "import os\n",
    "import random \n",
    "\n",
    "train = pd.read_csv(CONFIG.train_path)\n",
    "#train\n",
    "\n",
    "image_path = '/kaggle/input/planttraits2024/train_images'\n",
    "\n",
    "image_files = [f for f in os.listdir(image_path) if f.endswith('.jpeg')]\n",
    "\n",
    "random_images = random.sample(image_files, 5)\n",
    "\n",
    "\n",
    "train[\"image_path\"] = CONFIG.train_image_path + train['id'].astype(str) + '.jpeg'\n",
    "\n",
    "train= train[['id', 'image_path', 'X4_mean', 'X11_mean', 'X18_mean', 'X26_mean', 'X50_mean', 'X3112_mean']].copy()\n",
    "# Drop duplicates and nans\n",
    "train = train.drop_duplicates().dropna()\n",
    "train"
   ]
  },
  {
   "cell_type": "code",
   "execution_count": 70,
   "metadata": {
    "execution": {
     "iopub.execute_input": "2024-04-27T02:05:09.640904Z",
     "iopub.status.busy": "2024-04-27T02:05:09.640588Z",
     "iopub.status.idle": "2024-04-27T02:05:09.737241Z",
     "shell.execute_reply": "2024-04-27T02:05:09.736391Z",
     "shell.execute_reply.started": "2024-04-27T02:05:09.640876Z"
    }
   },
   "outputs": [],
   "source": [
    "train[\"image_path\"] =CONFIG.train_image_path + train['id'].astype(str) + '.jpeg'\n",
    "\n",
    "train= train[['id', 'image_path', 'X4_mean', 'X11_mean', 'X18_mean', 'X26_mean', 'X50_mean', 'X3112_mean']].copy()\n",
    "# Drop duplicates and nans\n",
    "train = train.drop_duplicates().dropna()"
   ]
  },
  {
   "cell_type": "code",
   "execution_count": 71,
   "metadata": {
    "execution": {
     "iopub.execute_input": "2024-04-27T02:05:09.738868Z",
     "iopub.status.busy": "2024-04-27T02:05:09.738496Z",
     "iopub.status.idle": "2024-04-27T02:05:09.765289Z",
     "shell.execute_reply": "2024-04-27T02:05:09.764332Z",
     "shell.execute_reply.started": "2024-04-27T02:05:09.738833Z"
    }
   },
   "outputs": [
    {
     "name": "stderr",
     "output_type": "stream",
     "text": [
      "/opt/conda/lib/python3.10/site-packages/pandas/core/internals/blocks.py:393: RuntimeWarning: invalid value encountered in log1p\n",
      "  result = func(self.values, **kwargs)\n"
     ]
    },
    {
     "data": {
      "text/plain": [
       "((38819, 8), (16637, 8))"
      ]
     },
     "execution_count": 71,
     "metadata": {},
     "output_type": "execute_result"
    }
   ],
   "source": [
    "train[CONFIG.TARGET_COLS] = np.log1p(train[CONFIG.TARGET_COLS])\n",
    "train = train.dropna()\n",
    "\n",
    "split_index = int(0.7 * len(train))\n",
    "# Split the DataFrame into train and validation sets\n",
    "train_data = train.iloc[:split_index].reset_index(drop=True)\n",
    "val_data = train.iloc[split_index:].reset_index(drop=True)\n",
    "train_data.shape, val_data.shape\n"
   ]
  },
  {
   "cell_type": "code",
   "execution_count": 72,
   "metadata": {
    "execution": {
     "iopub.execute_input": "2024-04-27T02:05:09.767680Z",
     "iopub.status.busy": "2024-04-27T02:05:09.767359Z",
     "iopub.status.idle": "2024-04-27T02:05:09.773543Z",
     "shell.execute_reply": "2024-04-27T02:05:09.772549Z",
     "shell.execute_reply.started": "2024-04-27T02:05:09.767643Z"
    }
   },
   "outputs": [],
   "source": [
    "split_index = int(0.5 * len(val_data))\n",
    "# Split the DataFrame into test and validation sets\n",
    "valid_data = val_data.iloc[:split_index].reset_index(drop=True)\n",
    "test_data = val_data.iloc[split_index:].reset_index(drop=True)"
   ]
  },
  {
   "cell_type": "code",
   "execution_count": 73,
   "metadata": {
    "execution": {
     "iopub.execute_input": "2024-04-27T02:05:09.774915Z",
     "iopub.status.busy": "2024-04-27T02:05:09.774671Z",
     "iopub.status.idle": "2024-04-27T02:05:09.786258Z",
     "shell.execute_reply": "2024-04-27T02:05:09.785329Z",
     "shell.execute_reply.started": "2024-04-27T02:05:09.774893Z"
    }
   },
   "outputs": [],
   "source": [
    "paths = train_data.image_path.tolist()\n",
    "\n",
    "class CustomDataset(Dataset):\n",
    "    def __init__(self, paths, labels, transform=None):\n",
    "        self.paths = paths\n",
    "        self.labels = labels\n",
    "        self.transform = transform\n",
    "\n",
    "    def __len__(self):\n",
    "        return len(self.paths)\n",
    "\n",
    "    def __getitem__(self, idx):\n",
    "        image = Image.open(self.paths[idx]).convert('RGB')\n",
    "        \n",
    "        # Use normalized labels\n",
    "        label = torch.tensor(self.labels[idx], dtype=torch.float32)\n",
    "\n",
    "        if self.transform:\n",
    "            image = self.transform(image)\n",
    "\n",
    "        return image, label\n",
    "\n",
    "    \n",
    "from torchvision import transforms\n",
    "# Define any image transformations you want to apply, here we also add augmentation. \n",
    "transform = transforms.Compose([\n",
    "    transforms.Resize((384, 384)),\n",
    "    transforms.RandomResizedCrop(384),\n",
    "    transforms.RandomHorizontalFlip(),\n",
    "    transforms.ColorJitter(brightness=0.2, contrast=0.2, saturation=0.2, hue=0.1),\n",
    "    transforms.ToTensor(),\n",
    "    transforms.Normalize(mean=[0.485, 0.456, 0.406], std=[0.229, 0.224, 0.225]),\n",
    "])"
   ]
  },
  {
   "cell_type": "markdown",
   "metadata": {},
   "source": [
    "## Creating Train, Test and Val dataset "
   ]
  },
  {
   "cell_type": "code",
   "execution_count": 74,
   "metadata": {
    "execution": {
     "iopub.execute_input": "2024-04-27T02:05:09.788528Z",
     "iopub.status.busy": "2024-04-27T02:05:09.787540Z",
     "iopub.status.idle": "2024-04-27T02:05:09.805120Z",
     "shell.execute_reply": "2024-04-27T02:05:09.804187Z",
     "shell.execute_reply.started": "2024-04-27T02:05:09.788503Z"
    }
   },
   "outputs": [
    {
     "name": "stdout",
     "output_type": "stream",
     "text": [
      "Total Train Steps: 1940950\n",
      "Warmup Steps: 194095\n",
      "Decay Steps: 1746855\n"
     ]
    }
   ],
   "source": [
    "\n",
    "train_paths  = train_data.image_path.tolist()\n",
    "train_labels = train_data[CONFIG.TARGET_COLS].values\n",
    "\n",
    "val_paths  = val_data.image_path.tolist()\n",
    "val_labels = val_data[CONFIG.TARGET_COLS].values\n",
    "\n",
    "\n",
    "#torch dataset\n",
    "batch_size = CONFIG.BATCH_SIZE\n",
    "\n",
    "# Create the datasets\n",
    "\n",
    "dataset_train = CustomDataset(train_paths, train_labels, transform=transform)\n",
    "train_dataloader = DataLoader(dataset_train, batch_size=batch_size, shuffle=True)\n",
    "\n",
    "\n",
    "dataset_val = CustomDataset(val_paths, val_labels, transform=transform)\n",
    "val_dataloader = DataLoader(dataset_val, batch_size=batch_size, shuffle=True)\n",
    "\n",
    "\n",
    "# Define your dataset size and other configuration parameters\n",
    "dataset_size = len(dataset_train)  # Assuming you have defined 'dataset' earlier\n",
    "total_epochs = 5  # Total number of epochs\n",
    "\n",
    "# Calculate total train steps\n",
    "total_train_steps = dataset_size * batch_size * total_epochs\n",
    "\n",
    "# Define warmup steps as 10% of total train steps\n",
    "warmup_steps = int(total_train_steps * 0.10)\n",
    "\n",
    "# Define decay steps as the remaining steps after warmup\n",
    "decay_steps = total_train_steps - warmup_steps\n",
    "\n",
    "print(f\"Total Train Steps: {total_train_steps}\")\n",
    "print(f\"Warmup Steps: {warmup_steps}\")\n",
    "print(f\"Decay Steps: {decay_steps}\")\n"
   ]
  },
  {
   "cell_type": "code",
   "execution_count": null,
   "metadata": {},
   "outputs": [],
   "source": [
    "test_paths  = test_data.image_path.tolist()\n",
    "\n",
    "dataset_test = CustomDataset(val_paths, test_labels, transform=transform)\n",
    "test_dataloader = DataLoader(dataset_test, batch_size=batch_size, shuffle=True)"
   ]
  },
  {
   "cell_type": "code",
   "execution_count": 75,
   "metadata": {
    "execution": {
     "iopub.execute_input": "2024-04-27T02:05:09.806947Z",
     "iopub.status.busy": "2024-04-27T02:05:09.806360Z",
     "iopub.status.idle": "2024-04-27T02:05:09.814450Z",
     "shell.execute_reply": "2024-04-27T02:05:09.813581Z",
     "shell.execute_reply.started": "2024-04-27T02:05:09.806915Z"
    }
   },
   "outputs": [],
   "source": [
    "class MAELoss(nn.Module):\n",
    "    def __init__(self):\n",
    "        super(MAELoss, self).__init__()\n",
    "\n",
    "    def forward(self, y_pred, y_true):\n",
    "        mae = torch.mean(torch.abs(y_true - y_pred))\n",
    "        return mae\n",
    "\n",
    "\n",
    "class MSELoss(nn.Module):\n",
    "    def __init__(self):\n",
    "        super(MSELoss, self).__init__()\n",
    "\n",
    "    def forward(self, y_pred, y_true):\n",
    "        mse = torch.mean((y_true - y_pred) ** 2)\n",
    "        return mse"
   ]
  },
  {
   "cell_type": "code",
   "execution_count": 76,
   "metadata": {
    "execution": {
     "iopub.execute_input": "2024-04-27T02:05:10.957873Z",
     "iopub.status.busy": "2024-04-27T02:05:10.957487Z",
     "iopub.status.idle": "2024-04-27T02:05:10.964364Z",
     "shell.execute_reply": "2024-04-27T02:05:10.963375Z",
     "shell.execute_reply.started": "2024-04-27T02:05:10.957841Z"
    }
   },
   "outputs": [],
   "source": [
    "class R2Loss(nn.Module):#causes nans\n",
    "    def __init__(self):\n",
    "        super(R2Loss, self).__init__()\n",
    "\n",
    "    def forward(self, y_pred, y_true):\n",
    "\n",
    "        SS_res = torch.sum((y_true - y_pred)**2)\n",
    "        SS_tot = torch.sum((y_true - torch.mean(y_true))**2)\n",
    "\n",
    "        epsilon = 1e-6  # Small epsilon to avoid division by zero\n",
    "        r2 = 1 - (SS_res / (SS_tot + epsilon))\n",
    "        mean_r2 = torch.mean(r2)\n",
    "\n",
    "        return mean_r2"
   ]
  },
  {
   "cell_type": "code",
   "execution_count": 77,
   "metadata": {
    "execution": {
     "iopub.execute_input": "2024-04-27T02:05:14.645279Z",
     "iopub.status.busy": "2024-04-27T02:05:14.644692Z",
     "iopub.status.idle": "2024-04-27T02:05:15.253274Z",
     "shell.execute_reply": "2024-04-27T02:05:15.252423Z",
     "shell.execute_reply.started": "2024-04-27T02:05:14.645245Z"
    }
   },
   "outputs": [],
   "source": [
    "model = torch.load('/kaggle/input/modified-planttraits2024-eda-training/model.pth')"
   ]
  },
  {
   "cell_type": "code",
   "execution_count": 78,
   "metadata": {
    "execution": {
     "iopub.execute_input": "2024-04-27T02:05:17.498318Z",
     "iopub.status.busy": "2024-04-27T02:05:17.497682Z",
     "iopub.status.idle": "2024-04-27T02:05:17.502832Z",
     "shell.execute_reply": "2024-04-27T02:05:17.501839Z",
     "shell.execute_reply.started": "2024-04-27T02:05:17.498275Z"
    }
   },
   "outputs": [],
   "source": [
    "r2_loss =R2Loss()\n",
    "test_mse = MSELoss()\n",
    "test_mae = MAELoss()"
   ]
  },
  {
   "cell_type": "code",
   "execution_count": 61,
   "metadata": {
    "execution": {
     "iopub.execute_input": "2024-04-27T01:42:16.859772Z",
     "iopub.status.busy": "2024-04-27T01:42:16.859416Z",
     "iopub.status.idle": "2024-04-27T01:53:59.667686Z",
     "shell.execute_reply": "2024-04-27T01:53:59.666806Z",
     "shell.execute_reply.started": "2024-04-27T01:42:16.859741Z"
    }
   },
   "outputs": [
    {
     "data": {
      "application/vnd.jupyter.widget-view+json": {
       "model_id": "bab8cef1d23d46c6bc6be25b517457f8",
       "version_major": 2,
       "version_minor": 0
      },
      "text/plain": [
       "Val Epoch 1/1:   0%|          | 0/1664 [00:00<?, ?it/s]"
      ]
     },
     "metadata": {},
     "output_type": "display_data"
    }
   ],
   "source": [
    "model.eval()  \n",
    "test_loss = 0.0\n",
    "with torch.no_grad():\n",
    "    for images, targets in tqdm(test_dataloader, desc=f\"Test Epoch {epoch + 1}/{total_epochs}\"):\n",
    "        images = images.to('cuda')\n",
    "        targets = targets.to('cuda')\n",
    "        \n",
    "        outputs = model(images)\n",
    "        test_loss += criterion(outputs, targets)#.item()\n",
    "            \n",
    "        r2_value = r2_loss(outputs, targets)\n",
    "        test_mse = MSELoss(outputs, targets)\n",
    "        test_mae = MAELoss(outputs, targets)\n",
    "                \n",
    "    test_loss /= len(test_dataloader)\n",
    "    # Append loss to lists\n",
    "    train_losses.append(loss.item())\n",
    "    test_losses.append(test_loss)\n"
   ]
  },
  {
   "cell_type": "code",
   "execution_count": 63,
   "metadata": {},
   "outputs": [
    {
     "name": "stdout",
     "output_type": "stream",
     "text": [
      "Test R2: 0.9747 - Test MSE: 0.1534  - Test MAE:0.2792\n"
     ]
    }
   ],
   "source": [
    "print(f\"Test R2: {r2_value:.4f} - Test MSE: {test_mse:.4f} - Test MAE: {test_mae:.4f}\")"
   ]
  }
 ],
 "metadata": {
  "kaggle": {
   "accelerator": "gpu",
   "dataSources": [
    {
     "databundleVersionId": 8046133,
     "sourceId": 65626,
     "sourceType": "competition"
    },
    {
     "databundleVersionId": 8368109,
     "datasetId": 4888466,
     "sourceId": 8240808,
     "sourceType": "datasetVersion"
    },
    {
     "sourceId": 174183881,
     "sourceType": "kernelVersion"
    }
   ],
   "isGpuEnabled": true,
   "isInternetEnabled": true,
   "language": "python",
   "sourceType": "notebook"
  },
  "kernelspec": {
   "display_name": "Python 3 (ipykernel)",
   "language": "python",
   "name": "python3"
  },
  "language_info": {
   "codemirror_mode": {
    "name": "ipython",
    "version": 3
   },
   "file_extension": ".py",
   "mimetype": "text/x-python",
   "name": "python",
   "nbconvert_exporter": "python",
   "pygments_lexer": "ipython3",
   "version": "3.11.4"
  }
 },
 "nbformat": 4,
 "nbformat_minor": 4
}
